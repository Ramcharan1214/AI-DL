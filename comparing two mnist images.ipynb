{
 "cells": [
  {
   "cell_type": "code",
   "execution_count": 38,
   "id": "4accd760",
   "metadata": {},
   "outputs": [],
   "source": [
    "from tensorflow import keras\n",
    "import numpy as np"
   ]
  },
  {
   "cell_type": "code",
   "execution_count": null,
   "id": "a6349c32",
   "metadata": {},
   "outputs": [
    {
     "name": "stdout",
     "output_type": "stream",
     "text": [
      "(60000, 28, 28)\n"
     ]
    }
   ],
   "source": [
    "fashion_mnist= keras.datasets.fashion_mnist\n",
    "(X_train_full,y_train_full),(X_test,y_test)=fashion_mnist.load_data()\n",
    "print(X_train_full.shape)\n",
    "X_train_full,X,y_train_full,Y=X_train_full[5000:],X_train_full[:5000],y_train_full[5000:],y_train_full[:5000]\n",
    "X_test = X_test / 255.0\n",
    "x_valid,x_train=X_train_full[:5000]/255.0,X_train_full[5000:]/255.0\n",
    "y_valid,y_train=y_train_full[:5000],y_train_full[5000:]\n",
    "\n",
    "class_names=[\"T-shirt/top\", \"Trouser\", \"Pullover\", \"Dress\", \"Coat\",\n",
    " \"Sandal\", \"Shirt\", \"Sneaker\", \"Bag\", \"Ankle boot\"]"
   ]
  },
  {
   "cell_type": "code",
   "execution_count": 40,
   "id": "80e81a51",
   "metadata": {},
   "outputs": [
    {
     "data": {
      "text/plain": [
       "(10000, 28, 28)"
      ]
     },
     "execution_count": 40,
     "metadata": {},
     "output_type": "execute_result"
    }
   ],
   "source": [
    "X_test.shape"
   ]
  },
  {
   "cell_type": "code",
   "execution_count": 41,
   "id": "1bb34d33",
   "metadata": {},
   "outputs": [],
   "source": [
    "X_test,XT,y_test,YT=X_test[2000:],X_test[:2000],y_test[2000:],y_test[:2000]"
   ]
  },
  {
   "cell_type": "code",
   "execution_count": 37,
   "id": "c09cc00c",
   "metadata": {},
   "outputs": [
    {
     "data": {
      "text/plain": [
       "((8000, 28, 28), (8000,), (55000, 28, 28), (55000,))"
      ]
     },
     "execution_count": 37,
     "metadata": {},
     "output_type": "execute_result"
    }
   ],
   "source": [
    "X_test.shape,y_test.shape,X_train_full.shape,y_train_full.shape"
   ]
  },
  {
   "cell_type": "code",
   "execution_count": 67,
   "id": "88d4b754",
   "metadata": {},
   "outputs": [],
   "source": [
    "def generate_siamese_batch(X, y, batch_size=64):\n",
    "    X1, X2, y_batch = [], [], []\n",
    "    num_classes = np.unique(y).shape[0]\n",
    "    class_indices = {label: np.where(y == label)[0] for label in range(num_classes)}\n",
    "    for _ in range(batch_size // 2):\n",
    "        # Same class pair\n",
    "        label = np.random.randint(0, num_classes)\n",
    "        idx1, idx2 = np.random.choice(class_indices[label], 2, replace=False)\n",
    "        X1.append(X[idx1])\n",
    "        X2.append(X[idx2])\n",
    "        y_batch.append(0)\n",
    "\n",
    "        # Different class pair\n",
    "        label1, label2 = np.random.choice(range(num_classes), 2, replace=False)\n",
    "        idx1 = np.random.choice(class_indices[label1])\n",
    "        idx2 = np.random.choice(class_indices[label2])\n",
    "        X1.append(X[idx1])\n",
    "        X2.append(X[idx2])\n",
    "        y_batch.append(1)\n",
    "\n",
    "    return np.array(X1), np.array(X2), np.array(y_batch)\n"
   ]
  },
  {
   "cell_type": "code",
   "execution_count": 145,
   "id": "58b28d07",
   "metadata": {},
   "outputs": [],
   "source": [
    "X1_batch, X2_batch, y_batch = generate_siamese_batch(x_train, y_train, batch_size=30000)\n",
    "X1_validbatch, X2_validbatch, y_validbatch = generate_siamese_batch(x_valid, y_valid, batch_size=800)\n",
    "X1_testbatch, X2_testbatch, y_testbatch = generate_siamese_batch(X_test, y_test, batch_size=300)"
   ]
  },
  {
   "cell_type": "code",
   "execution_count": 146,
   "id": "9f870656",
   "metadata": {},
   "outputs": [
    {
     "data": {
      "text/plain": [
       "((30000, 28, 28), (30000, 28, 28), (30000,))"
      ]
     },
     "execution_count": 146,
     "metadata": {},
     "output_type": "execute_result"
    }
   ],
   "source": [
    "X1_batch.shape,X2_batch.shape, y_batch.shape"
   ]
  },
  {
   "cell_type": "code",
   "execution_count": 147,
   "id": "85733118",
   "metadata": {},
   "outputs": [],
   "source": [
    "inputA=keras.layers.Input(shape=[28,28])\n",
    "flatA = keras.layers.Flatten()(inputA)\n",
    "hiddenA1=keras.layers.Dense(100,kernel_initializer=\"he_normal\",activation='elu')(flatA)\n",
    "hiddenA2=keras.layers.Dense(100,kernel_initializer=\"he_normal\",activation='elu')(hiddenA1)\n",
    "hiddenA3=keras.layers.Dense(100,kernel_initializer=\"he_normal\",activation='elu')(hiddenA2)\n",
    "hiddenA4=keras.layers.Dense(100,kernel_initializer=\"he_normal\",activation='elu')(hiddenA3)\n",
    "hiddenA5=keras.layers.Dense(100,kernel_initializer=\"he_normal\",activation='elu')(hiddenA4)\n",
    "out_a=keras.layers.Dense(10,activation='elu')(hiddenA5)"
   ]
  },
  {
   "cell_type": "code",
   "execution_count": 148,
   "id": "90523d88",
   "metadata": {},
   "outputs": [],
   "source": [
    "inputB=keras.layers.Input(shape=[28,28])\n",
    "flatB = keras.layers.Flatten()(inputB)\n",
    "hiddenB1=keras.layers.Dense(100,kernel_initializer=\"he_normal\",activation='elu')(flatB)\n",
    "hiddenB2=keras.layers.Dense(100,kernel_initializer=\"he_normal\",activation='elu')(hiddenB1)\n",
    "hiddenB3=keras.layers.Dense(100,kernel_initializer=\"he_normal\",activation='elu')(hiddenB2)\n",
    "hiddenB4=keras.layers.Dense(100,kernel_initializer=\"he_normal\",activation='elu')(hiddenB3)\n",
    "hiddenB5=keras.layers.Dense(100,kernel_initializer=\"he_normal\",activation='elu')(hiddenB4)\n",
    "out_b=keras.layers.Dense(10,activation='elu')(hiddenB5)"
   ]
  },
  {
   "cell_type": "code",
   "execution_count": 149,
   "id": "96a55dbd",
   "metadata": {},
   "outputs": [],
   "source": [
    "merged = keras.layers.Concatenate()([out_a, out_b])\n",
    "hidden = keras.layers.Dense(10, activation='elu',kernel_initializer=\"he_normal\")(merged)\n",
    "output = keras.layers.Dense(1, activation='sigmoid')(hidden)\n",
    "\n",
    "model = keras.Model(inputs=[inputA, inputB], outputs=output)\n",
    "model.compile(loss='binary_crossentropy', optimizer='adam', metrics=['accuracy'])"
   ]
  },
  {
   "cell_type": "code",
   "execution_count": 150,
   "id": "13a3051e",
   "metadata": {},
   "outputs": [
    {
     "name": "stdout",
     "output_type": "stream",
     "text": [
      "Epoch 1/30\n",
      "\u001b[1m938/938\u001b[0m \u001b[32m━━━━━━━━━━━━━━━━━━━━\u001b[0m\u001b[37m\u001b[0m \u001b[1m13s\u001b[0m 7ms/step - accuracy: 0.7353 - loss: 0.5079 - val_accuracy: 0.8288 - val_loss: 0.3903\n",
      "Epoch 2/30\n",
      "\u001b[1m938/938\u001b[0m \u001b[32m━━━━━━━━━━━━━━━━━━━━\u001b[0m\u001b[37m\u001b[0m \u001b[1m5s\u001b[0m 5ms/step - accuracy: 0.8434 - loss: 0.3624 - val_accuracy: 0.8487 - val_loss: 0.3437\n",
      "Epoch 3/30\n",
      "\u001b[1m938/938\u001b[0m \u001b[32m━━━━━━━━━━━━━━━━━━━━\u001b[0m\u001b[37m\u001b[0m \u001b[1m4s\u001b[0m 4ms/step - accuracy: 0.8664 - loss: 0.3218 - val_accuracy: 0.8637 - val_loss: 0.3270\n",
      "Epoch 4/30\n",
      "\u001b[1m938/938\u001b[0m \u001b[32m━━━━━━━━━━━━━━━━━━━━\u001b[0m\u001b[37m\u001b[0m \u001b[1m4s\u001b[0m 5ms/step - accuracy: 0.8731 - loss: 0.3060 - val_accuracy: 0.8600 - val_loss: 0.3170\n",
      "Epoch 5/30\n",
      "\u001b[1m938/938\u001b[0m \u001b[32m━━━━━━━━━━━━━━━━━━━━\u001b[0m\u001b[37m\u001b[0m \u001b[1m4s\u001b[0m 4ms/step - accuracy: 0.8801 - loss: 0.2972 - val_accuracy: 0.8675 - val_loss: 0.3036\n",
      "Epoch 6/30\n",
      "\u001b[1m938/938\u001b[0m \u001b[32m━━━━━━━━━━━━━━━━━━━━\u001b[0m\u001b[37m\u001b[0m \u001b[1m4s\u001b[0m 4ms/step - accuracy: 0.8807 - loss: 0.2935 - val_accuracy: 0.8775 - val_loss: 0.3039\n",
      "Epoch 7/30\n",
      "\u001b[1m938/938\u001b[0m \u001b[32m━━━━━━━━━━━━━━━━━━━━\u001b[0m\u001b[37m\u001b[0m \u001b[1m4s\u001b[0m 4ms/step - accuracy: 0.8813 - loss: 0.2917 - val_accuracy: 0.8725 - val_loss: 0.3122\n",
      "Epoch 8/30\n",
      "\u001b[1m938/938\u001b[0m \u001b[32m━━━━━━━━━━━━━━━━━━━━\u001b[0m\u001b[37m\u001b[0m \u001b[1m4s\u001b[0m 4ms/step - accuracy: 0.8867 - loss: 0.2807 - val_accuracy: 0.8687 - val_loss: 0.3166\n",
      "Epoch 9/30\n",
      "\u001b[1m938/938\u001b[0m \u001b[32m━━━━━━━━━━━━━━━━━━━━\u001b[0m\u001b[37m\u001b[0m \u001b[1m4s\u001b[0m 4ms/step - accuracy: 0.8890 - loss: 0.2754 - val_accuracy: 0.8775 - val_loss: 0.2995\n",
      "Epoch 10/30\n",
      "\u001b[1m938/938\u001b[0m \u001b[32m━━━━━━━━━━━━━━━━━━━━\u001b[0m\u001b[37m\u001b[0m \u001b[1m4s\u001b[0m 4ms/step - accuracy: 0.8932 - loss: 0.2696 - val_accuracy: 0.8888 - val_loss: 0.2911\n",
      "Epoch 11/30\n",
      "\u001b[1m938/938\u001b[0m \u001b[32m━━━━━━━━━━━━━━━━━━━━\u001b[0m\u001b[37m\u001b[0m \u001b[1m4s\u001b[0m 4ms/step - accuracy: 0.8924 - loss: 0.2687 - val_accuracy: 0.8600 - val_loss: 0.3356\n",
      "Epoch 12/30\n",
      "\u001b[1m938/938\u001b[0m \u001b[32m━━━━━━━━━━━━━━━━━━━━\u001b[0m\u001b[37m\u001b[0m \u001b[1m4s\u001b[0m 4ms/step - accuracy: 0.8979 - loss: 0.2571 - val_accuracy: 0.8838 - val_loss: 0.2858\n",
      "Epoch 13/30\n",
      "\u001b[1m938/938\u001b[0m \u001b[32m━━━━━━━━━━━━━━━━━━━━\u001b[0m\u001b[37m\u001b[0m \u001b[1m3s\u001b[0m 4ms/step - accuracy: 0.9008 - loss: 0.2528 - val_accuracy: 0.8800 - val_loss: 0.2928\n",
      "Epoch 14/30\n",
      "\u001b[1m938/938\u001b[0m \u001b[32m━━━━━━━━━━━━━━━━━━━━\u001b[0m\u001b[37m\u001b[0m \u001b[1m4s\u001b[0m 4ms/step - accuracy: 0.9015 - loss: 0.2524 - val_accuracy: 0.8838 - val_loss: 0.2890\n",
      "Epoch 15/30\n",
      "\u001b[1m938/938\u001b[0m \u001b[32m━━━━━━━━━━━━━━━━━━━━\u001b[0m\u001b[37m\u001b[0m \u001b[1m4s\u001b[0m 4ms/step - accuracy: 0.9016 - loss: 0.2496 - val_accuracy: 0.8838 - val_loss: 0.2877\n",
      "Epoch 16/30\n",
      "\u001b[1m938/938\u001b[0m \u001b[32m━━━━━━━━━━━━━━━━━━━━\u001b[0m\u001b[37m\u001b[0m \u001b[1m4s\u001b[0m 4ms/step - accuracy: 0.9036 - loss: 0.2415 - val_accuracy: 0.8825 - val_loss: 0.2949\n",
      "Epoch 17/30\n",
      "\u001b[1m938/938\u001b[0m \u001b[32m━━━━━━━━━━━━━━━━━━━━\u001b[0m\u001b[37m\u001b[0m \u001b[1m4s\u001b[0m 4ms/step - accuracy: 0.9071 - loss: 0.2379 - val_accuracy: 0.8800 - val_loss: 0.2988\n",
      "Epoch 18/30\n",
      "\u001b[1m938/938\u001b[0m \u001b[32m━━━━━━━━━━━━━━━━━━━━\u001b[0m\u001b[37m\u001b[0m \u001b[1m4s\u001b[0m 4ms/step - accuracy: 0.9099 - loss: 0.2314 - val_accuracy: 0.8888 - val_loss: 0.2892\n",
      "Epoch 19/30\n",
      "\u001b[1m938/938\u001b[0m \u001b[32m━━━━━━━━━━━━━━━━━━━━\u001b[0m\u001b[37m\u001b[0m \u001b[1m4s\u001b[0m 4ms/step - accuracy: 0.9072 - loss: 0.2371 - val_accuracy: 0.8662 - val_loss: 0.3081\n",
      "Epoch 20/30\n",
      "\u001b[1m938/938\u001b[0m \u001b[32m━━━━━━━━━━━━━━━━━━━━\u001b[0m\u001b[37m\u001b[0m \u001b[1m4s\u001b[0m 4ms/step - accuracy: 0.9099 - loss: 0.2325 - val_accuracy: 0.8838 - val_loss: 0.2865\n",
      "Epoch 21/30\n",
      "\u001b[1m938/938\u001b[0m \u001b[32m━━━━━━━━━━━━━━━━━━━━\u001b[0m\u001b[37m\u001b[0m \u001b[1m4s\u001b[0m 4ms/step - accuracy: 0.9120 - loss: 0.2326 - val_accuracy: 0.8800 - val_loss: 0.3208\n",
      "Epoch 22/30\n",
      "\u001b[1m938/938\u001b[0m \u001b[32m━━━━━━━━━━━━━━━━━━━━\u001b[0m\u001b[37m\u001b[0m \u001b[1m4s\u001b[0m 4ms/step - accuracy: 0.9120 - loss: 0.2258 - val_accuracy: 0.8712 - val_loss: 0.3224\n",
      "Epoch 23/30\n",
      "\u001b[1m938/938\u001b[0m \u001b[32m━━━━━━━━━━━━━━━━━━━━\u001b[0m\u001b[37m\u001b[0m \u001b[1m4s\u001b[0m 4ms/step - accuracy: 0.9153 - loss: 0.2205 - val_accuracy: 0.8850 - val_loss: 0.2858\n",
      "Epoch 24/30\n",
      "\u001b[1m938/938\u001b[0m \u001b[32m━━━━━━━━━━━━━━━━━━━━\u001b[0m\u001b[37m\u001b[0m \u001b[1m4s\u001b[0m 4ms/step - accuracy: 0.9170 - loss: 0.2170 - val_accuracy: 0.8775 - val_loss: 0.2872\n",
      "Epoch 25/30\n",
      "\u001b[1m938/938\u001b[0m \u001b[32m━━━━━━━━━━━━━━━━━━━━\u001b[0m\u001b[37m\u001b[0m \u001b[1m4s\u001b[0m 4ms/step - accuracy: 0.9173 - loss: 0.2155 - val_accuracy: 0.8675 - val_loss: 0.2876\n",
      "Epoch 26/30\n",
      "\u001b[1m938/938\u001b[0m \u001b[32m━━━━━━━━━━━━━━━━━━━━\u001b[0m\u001b[37m\u001b[0m \u001b[1m4s\u001b[0m 4ms/step - accuracy: 0.9185 - loss: 0.2106 - val_accuracy: 0.8863 - val_loss: 0.2963\n",
      "Epoch 27/30\n",
      "\u001b[1m938/938\u001b[0m \u001b[32m━━━━━━━━━━━━━━━━━━━━\u001b[0m\u001b[37m\u001b[0m \u001b[1m4s\u001b[0m 4ms/step - accuracy: 0.9200 - loss: 0.2101 - val_accuracy: 0.8763 - val_loss: 0.3119\n",
      "Epoch 28/30\n",
      "\u001b[1m938/938\u001b[0m \u001b[32m━━━━━━━━━━━━━━━━━━━━\u001b[0m\u001b[37m\u001b[0m \u001b[1m4s\u001b[0m 4ms/step - accuracy: 0.9184 - loss: 0.2091 - val_accuracy: 0.8775 - val_loss: 0.3308\n",
      "Epoch 29/30\n",
      "\u001b[1m938/938\u001b[0m \u001b[32m━━━━━━━━━━━━━━━━━━━━\u001b[0m\u001b[37m\u001b[0m \u001b[1m4s\u001b[0m 4ms/step - accuracy: 0.9200 - loss: 0.2096 - val_accuracy: 0.8700 - val_loss: 0.3401\n",
      "Epoch 30/30\n",
      "\u001b[1m938/938\u001b[0m \u001b[32m━━━━━━━━━━━━━━━━━━━━\u001b[0m\u001b[37m\u001b[0m \u001b[1m4s\u001b[0m 4ms/step - accuracy: 0.9228 - loss: 0.2049 - val_accuracy: 0.8775 - val_loss: 0.3126\n"
     ]
    },
    {
     "data": {
      "text/plain": [
       "<keras.src.callbacks.history.History at 0x213bb43f290>"
      ]
     },
     "execution_count": 150,
     "metadata": {},
     "output_type": "execute_result"
    }
   ],
   "source": [
    "model.fit((X1_batch, X2_batch),y_batch,validation_data=((X1_validbatch, X2_validbatch),y_validbatch),epochs=30)"
   ]
  },
  {
   "cell_type": "code",
   "execution_count": 151,
   "id": "03ba560b",
   "metadata": {},
   "outputs": [
    {
     "name": "stdout",
     "output_type": "stream",
     "text": [
      "\u001b[1m10/10\u001b[0m \u001b[32m━━━━━━━━━━━━━━━━━━━━\u001b[0m\u001b[37m\u001b[0m \u001b[1m0s\u001b[0m 3ms/step - accuracy: 0.8754 - loss: 0.3738  \n"
     ]
    },
    {
     "data": {
      "text/plain": [
       "[0.3457978069782257, 0.8833333253860474]"
      ]
     },
     "execution_count": 151,
     "metadata": {},
     "output_type": "execute_result"
    }
   ],
   "source": [
    "model.evaluate((X1_testbatch, X2_testbatch), y_testbatch)"
   ]
  },
  {
   "cell_type": "markdown",
   "id": "9a4ea0c0",
   "metadata": {},
   "source": [
    "Using same weights shared networks a and b "
   ]
  },
  {
   "cell_type": "code",
   "execution_count": 152,
   "id": "67363360",
   "metadata": {},
   "outputs": [],
   "source": [
    "input_shape = (28, 28)\n",
    "base_input = keras.layers.Input(shape=input_shape)\n",
    "flatten = keras.layers.Flatten()(base_input)\n",
    "hidden1 = keras.layers.Dense(100, kernel_initializer=\"he_normal\", activation='elu')(flatten)\n",
    "hidden2 = keras.layers.Dense(100, kernel_initializer=\"he_normal\", activation='elu')(hidden1)\n",
    "hidden3 = keras.layers.Dense(100, kernel_initializer=\"he_normal\", activation='elu')(hidden2)\n",
    "hidden4 = keras.layers.Dense(100, kernel_initializer=\"he_normal\", activation='elu')(hidden3)\n",
    "hidden5 = keras.layers.Dense(100,kernel_initializer=\"he_normal\",activation='elu')(hidden3)\n",
    "output_embedding =keras.layers.Dense(10,activation='elu')(hidden5)\n",
    "base_network = keras.models.Model(inputs=base_input, outputs=output_embedding)"
   ]
  },
  {
   "cell_type": "code",
   "execution_count": 153,
   "id": "9760f1e9",
   "metadata": {},
   "outputs": [],
   "source": [
    "inputa = keras.layers.Input(shape=input_shape)\n",
    "inputb = keras.layers.Input(shape=input_shape)\n",
    "\n",
    "processed_a = base_network(inputa) \n",
    "processed_b = base_network(inputb) "
   ]
  },
  {
   "cell_type": "code",
   "execution_count": 154,
   "id": "8a745f39",
   "metadata": {},
   "outputs": [],
   "source": [
    "concat=keras.layers.Concatenate()([processed_a,processed_b])\n",
    "hiddenN = keras.layers.Dense(10, activation='elu',kernel_initializer=\"he_normal\")(concat)\n",
    "outputN = keras.layers.Dense(1, activation='sigmoid')(hiddenN)\n",
    "\n",
    "modelN = keras.Model(inputs=[inputa,inputb], outputs=outputN)\n",
    "modelN.compile(loss='binary_crossentropy', optimizer='adam', metrics=['accuracy'])"
   ]
  },
  {
   "cell_type": "code",
   "execution_count": 155,
   "id": "58e4c760",
   "metadata": {},
   "outputs": [
    {
     "name": "stdout",
     "output_type": "stream",
     "text": [
      "Epoch 1/30\n",
      "\u001b[1m938/938\u001b[0m \u001b[32m━━━━━━━━━━━━━━━━━━━━\u001b[0m\u001b[37m\u001b[0m \u001b[1m9s\u001b[0m 4ms/step - accuracy: 0.7432 - loss: 0.4856 - val_accuracy: 0.8675 - val_loss: 0.3263\n",
      "Epoch 2/30\n",
      "\u001b[1m938/938\u001b[0m \u001b[32m━━━━━━━━━━━━━━━━━━━━\u001b[0m\u001b[37m\u001b[0m \u001b[1m3s\u001b[0m 4ms/step - accuracy: 0.8651 - loss: 0.3162 - val_accuracy: 0.8625 - val_loss: 0.3120\n",
      "Epoch 3/30\n",
      "\u001b[1m938/938\u001b[0m \u001b[32m━━━━━━━━━━━━━━━━━━━━\u001b[0m\u001b[37m\u001b[0m \u001b[1m4s\u001b[0m 4ms/step - accuracy: 0.8764 - loss: 0.2872 - val_accuracy: 0.8800 - val_loss: 0.2936\n",
      "Epoch 4/30\n",
      "\u001b[1m938/938\u001b[0m \u001b[32m━━━━━━━━━━━━━━━━━━━━\u001b[0m\u001b[37m\u001b[0m \u001b[1m4s\u001b[0m 4ms/step - accuracy: 0.8944 - loss: 0.2561 - val_accuracy: 0.8963 - val_loss: 0.2762\n",
      "Epoch 5/30\n",
      "\u001b[1m938/938\u001b[0m \u001b[32m━━━━━━━━━━━━━━━━━━━━\u001b[0m\u001b[37m\u001b[0m \u001b[1m4s\u001b[0m 4ms/step - accuracy: 0.9028 - loss: 0.2370 - val_accuracy: 0.8900 - val_loss: 0.2788\n",
      "Epoch 6/30\n",
      "\u001b[1m938/938\u001b[0m \u001b[32m━━━━━━━━━━━━━━━━━━━━\u001b[0m\u001b[37m\u001b[0m \u001b[1m4s\u001b[0m 4ms/step - accuracy: 0.9031 - loss: 0.2271 - val_accuracy: 0.9075 - val_loss: 0.2389\n",
      "Epoch 7/30\n",
      "\u001b[1m938/938\u001b[0m \u001b[32m━━━━━━━━━━━━━━━━━━━━\u001b[0m\u001b[37m\u001b[0m \u001b[1m4s\u001b[0m 4ms/step - accuracy: 0.9137 - loss: 0.2101 - val_accuracy: 0.9013 - val_loss: 0.2443\n",
      "Epoch 8/30\n",
      "\u001b[1m938/938\u001b[0m \u001b[32m━━━━━━━━━━━━━━━━━━━━\u001b[0m\u001b[37m\u001b[0m \u001b[1m4s\u001b[0m 4ms/step - accuracy: 0.9169 - loss: 0.2046 - val_accuracy: 0.8975 - val_loss: 0.2544\n",
      "Epoch 9/30\n",
      "\u001b[1m938/938\u001b[0m \u001b[32m━━━━━━━━━━━━━━━━━━━━\u001b[0m\u001b[37m\u001b[0m \u001b[1m3s\u001b[0m 4ms/step - accuracy: 0.9205 - loss: 0.1917 - val_accuracy: 0.9013 - val_loss: 0.2374\n",
      "Epoch 10/30\n",
      "\u001b[1m938/938\u001b[0m \u001b[32m━━━━━━━━━━━━━━━━━━━━\u001b[0m\u001b[37m\u001b[0m \u001b[1m4s\u001b[0m 4ms/step - accuracy: 0.9294 - loss: 0.1765 - val_accuracy: 0.9000 - val_loss: 0.2502\n",
      "Epoch 11/30\n",
      "\u001b[1m938/938\u001b[0m \u001b[32m━━━━━━━━━━━━━━━━━━━━\u001b[0m\u001b[37m\u001b[0m \u001b[1m4s\u001b[0m 4ms/step - accuracy: 0.9338 - loss: 0.1694 - val_accuracy: 0.8938 - val_loss: 0.2359\n",
      "Epoch 12/30\n",
      "\u001b[1m938/938\u001b[0m \u001b[32m━━━━━━━━━━━━━━━━━━━━\u001b[0m\u001b[37m\u001b[0m \u001b[1m4s\u001b[0m 4ms/step - accuracy: 0.9357 - loss: 0.1608 - val_accuracy: 0.9137 - val_loss: 0.2313\n",
      "Epoch 13/30\n",
      "\u001b[1m938/938\u001b[0m \u001b[32m━━━━━━━━━━━━━━━━━━━━\u001b[0m\u001b[37m\u001b[0m \u001b[1m4s\u001b[0m 4ms/step - accuracy: 0.9394 - loss: 0.1529 - val_accuracy: 0.9150 - val_loss: 0.2400\n",
      "Epoch 14/30\n",
      "\u001b[1m938/938\u001b[0m \u001b[32m━━━━━━━━━━━━━━━━━━━━\u001b[0m\u001b[37m\u001b[0m \u001b[1m3s\u001b[0m 4ms/step - accuracy: 0.9396 - loss: 0.1496 - val_accuracy: 0.9112 - val_loss: 0.2328\n",
      "Epoch 15/30\n",
      "\u001b[1m938/938\u001b[0m \u001b[32m━━━━━━━━━━━━━━━━━━━━\u001b[0m\u001b[37m\u001b[0m \u001b[1m3s\u001b[0m 4ms/step - accuracy: 0.9423 - loss: 0.1420 - val_accuracy: 0.9075 - val_loss: 0.2517\n",
      "Epoch 16/30\n",
      "\u001b[1m938/938\u001b[0m \u001b[32m━━━━━━━━━━━━━━━━━━━━\u001b[0m\u001b[37m\u001b[0m \u001b[1m4s\u001b[0m 4ms/step - accuracy: 0.9449 - loss: 0.1398 - val_accuracy: 0.9187 - val_loss: 0.2350\n",
      "Epoch 17/30\n",
      "\u001b[1m938/938\u001b[0m \u001b[32m━━━━━━━━━━━━━━━━━━━━\u001b[0m\u001b[37m\u001b[0m \u001b[1m4s\u001b[0m 4ms/step - accuracy: 0.9473 - loss: 0.1295 - val_accuracy: 0.9112 - val_loss: 0.2565\n",
      "Epoch 18/30\n",
      "\u001b[1m938/938\u001b[0m \u001b[32m━━━━━━━━━━━━━━━━━━━━\u001b[0m\u001b[37m\u001b[0m \u001b[1m4s\u001b[0m 4ms/step - accuracy: 0.9505 - loss: 0.1218 - val_accuracy: 0.9112 - val_loss: 0.2622\n",
      "Epoch 19/30\n",
      "\u001b[1m938/938\u001b[0m \u001b[32m━━━━━━━━━━━━━━━━━━━━\u001b[0m\u001b[37m\u001b[0m \u001b[1m4s\u001b[0m 4ms/step - accuracy: 0.9512 - loss: 0.1190 - val_accuracy: 0.9100 - val_loss: 0.2654\n",
      "Epoch 20/30\n",
      "\u001b[1m938/938\u001b[0m \u001b[32m━━━━━━━━━━━━━━━━━━━━\u001b[0m\u001b[37m\u001b[0m \u001b[1m4s\u001b[0m 4ms/step - accuracy: 0.9549 - loss: 0.1118 - val_accuracy: 0.9038 - val_loss: 0.2720\n",
      "Epoch 21/30\n",
      "\u001b[1m938/938\u001b[0m \u001b[32m━━━━━━━━━━━━━━━━━━━━\u001b[0m\u001b[37m\u001b[0m \u001b[1m4s\u001b[0m 4ms/step - accuracy: 0.9539 - loss: 0.1160 - val_accuracy: 0.9013 - val_loss: 0.2774\n",
      "Epoch 22/30\n",
      "\u001b[1m938/938\u001b[0m \u001b[32m━━━━━━━━━━━━━━━━━━━━\u001b[0m\u001b[37m\u001b[0m \u001b[1m4s\u001b[0m 4ms/step - accuracy: 0.9580 - loss: 0.1063 - val_accuracy: 0.9013 - val_loss: 0.2992\n",
      "Epoch 23/30\n",
      "\u001b[1m938/938\u001b[0m \u001b[32m━━━━━━━━━━━━━━━━━━━━\u001b[0m\u001b[37m\u001b[0m \u001b[1m4s\u001b[0m 4ms/step - accuracy: 0.9568 - loss: 0.1105 - val_accuracy: 0.9038 - val_loss: 0.2812\n",
      "Epoch 24/30\n",
      "\u001b[1m938/938\u001b[0m \u001b[32m━━━━━━━━━━━━━━━━━━━━\u001b[0m\u001b[37m\u001b[0m \u001b[1m4s\u001b[0m 4ms/step - accuracy: 0.9605 - loss: 0.1015 - val_accuracy: 0.9038 - val_loss: 0.3139\n",
      "Epoch 25/30\n",
      "\u001b[1m938/938\u001b[0m \u001b[32m━━━━━━━━━━━━━━━━━━━━\u001b[0m\u001b[37m\u001b[0m \u001b[1m3s\u001b[0m 4ms/step - accuracy: 0.9638 - loss: 0.0928 - val_accuracy: 0.9075 - val_loss: 0.3117\n",
      "Epoch 26/30\n",
      "\u001b[1m938/938\u001b[0m \u001b[32m━━━━━━━━━━━━━━━━━━━━\u001b[0m\u001b[37m\u001b[0m \u001b[1m3s\u001b[0m 4ms/step - accuracy: 0.9610 - loss: 0.1002 - val_accuracy: 0.9162 - val_loss: 0.2904\n",
      "Epoch 27/30\n",
      "\u001b[1m938/938\u001b[0m \u001b[32m━━━━━━━━━━━━━━━━━━━━\u001b[0m\u001b[37m\u001b[0m \u001b[1m4s\u001b[0m 4ms/step - accuracy: 0.9649 - loss: 0.0919 - val_accuracy: 0.9137 - val_loss: 0.2776\n",
      "Epoch 28/30\n",
      "\u001b[1m938/938\u001b[0m \u001b[32m━━━━━━━━━━━━━━━━━━━━\u001b[0m\u001b[37m\u001b[0m \u001b[1m4s\u001b[0m 4ms/step - accuracy: 0.9649 - loss: 0.0919 - val_accuracy: 0.9025 - val_loss: 0.2982\n",
      "Epoch 29/30\n",
      "\u001b[1m938/938\u001b[0m \u001b[32m━━━━━━━━━━━━━━━━━━━━\u001b[0m\u001b[37m\u001b[0m \u001b[1m4s\u001b[0m 4ms/step - accuracy: 0.9672 - loss: 0.0850 - val_accuracy: 0.9150 - val_loss: 0.2869\n",
      "Epoch 30/30\n",
      "\u001b[1m938/938\u001b[0m \u001b[32m━━━━━━━━━━━━━━━━━━━━\u001b[0m\u001b[37m\u001b[0m \u001b[1m4s\u001b[0m 4ms/step - accuracy: 0.9692 - loss: 0.0804 - val_accuracy: 0.9137 - val_loss: 0.3142\n"
     ]
    },
    {
     "data": {
      "text/plain": [
       "<keras.src.callbacks.history.History at 0x213c7396a90>"
      ]
     },
     "execution_count": 155,
     "metadata": {},
     "output_type": "execute_result"
    }
   ],
   "source": [
    "modelN.fit((X1_batch, X2_batch),y_batch,validation_data=((X1_validbatch, X2_validbatch),y_validbatch),epochs=30)"
   ]
  },
  {
   "cell_type": "code",
   "execution_count": 156,
   "id": "d095d47e",
   "metadata": {},
   "outputs": [
    {
     "name": "stdout",
     "output_type": "stream",
     "text": [
      "\u001b[1m10/10\u001b[0m \u001b[32m━━━━━━━━━━━━━━━━━━━━\u001b[0m\u001b[37m\u001b[0m \u001b[1m0s\u001b[0m 5ms/step - accuracy: 0.9001 - loss: 0.4570  \n"
     ]
    },
    {
     "data": {
      "text/plain": [
       "[0.37647515535354614, 0.8999999761581421]"
      ]
     },
     "execution_count": 156,
     "metadata": {},
     "output_type": "execute_result"
    }
   ],
   "source": [
    "modelN.evaluate((X1_testbatch, X2_testbatch), y_testbatch)"
   ]
  },
  {
   "cell_type": "code",
   "execution_count": 157,
   "id": "7b0c8610",
   "metadata": {},
   "outputs": [
    {
     "name": "stdout",
     "output_type": "stream",
     "text": [
      "\u001b[1m1/1\u001b[0m \u001b[32m━━━━━━━━━━━━━━━━━━━━\u001b[0m\u001b[37m\u001b[0m \u001b[1m0s\u001b[0m 213ms/step\n",
      "99.99963045120239\n",
      "The two images are predicted to be DISSIMILAR.\n"
     ]
    }
   ],
   "source": [
    "tshirt_idx = np.where(y_test == 0)[0][0] # T-shirt\n",
    "trouser_idx = np.where(y_test == 1)[0][0] #Trouser\n",
    "# Add a batch dimension to each image\n",
    "image_A = np.expand_dims(X_test[tshirt_idx], axis=0)  # Shape becomes (1, 28, 28)\n",
    "image_B = np.expand_dims(X_test[trouser_idx], axis=0) \n",
    "prediction=model.predict([image_A,image_B])\n",
    "print(prediction[0][0]*100)\n",
    "if prediction[0][0] < 0.5:\n",
    "    print(\"The two images are predicted to be SIMILAR.\")\n",
    "else:\n",
    "    print(\"The two images are predicted to be DISSIMILAR.\")\n"
   ]
  },
  {
   "cell_type": "code",
   "execution_count": 158,
   "id": "be810189",
   "metadata": {},
   "outputs": [
    {
     "name": "stdout",
     "output_type": "stream",
     "text": [
      "\u001b[1m1/1\u001b[0m \u001b[32m━━━━━━━━━━━━━━━━━━━━\u001b[0m\u001b[37m\u001b[0m \u001b[1m0s\u001b[0m 34ms/step\n",
      "1.7256850376725197\n",
      "The two images are predicted to be SIMILAR.\n"
     ]
    }
   ],
   "source": [
    "\n",
    "tshirt_idx2 = np.where(y_test == 0)[0][1] # T-shirt\n",
    "\n",
    "# Add a batch dimension to each image\n",
    "image_A = np.expand_dims(X_test[tshirt_idx], axis=0)  # Shape becomes (1, 28, 28)\n",
    "image_B = np.expand_dims(X_test[tshirt_idx2], axis=0) \n",
    "prediction=model.predict([image_A,image_B])\n",
    "print(prediction[0][0]*100)\n",
    "if prediction[0][0] < 0.5:\n",
    "    print(\"The two images are predicted to be SIMILAR.\")\n",
    "else:\n",
    "    print(\"The two images are predicted to be DISSIMILAR.\")"
   ]
  },
  {
   "cell_type": "code",
   "execution_count": 159,
   "id": "da3572fd",
   "metadata": {},
   "outputs": [
    {
     "name": "stderr",
     "output_type": "stream",
     "text": [
      "WARNING:absl:You are saving your model as an HDF5 file via `model.save()` or `keras.saving.save_model(model)`. This file format is considered legacy. We recommend using instead the native Keras format, e.g. `model.save('my_model.keras')` or `keras.saving.save_model(model, 'my_model.keras')`. \n",
      "WARNING:absl:You are saving your model as an HDF5 file via `model.save()` or `keras.saving.save_model(model)`. This file format is considered legacy. We recommend using instead the native Keras format, e.g. `model.save('my_model.keras')` or `keras.saving.save_model(model, 'my_model.keras')`. \n"
     ]
    }
   ],
   "source": [
    "model.save('fashion_minist_image_comparision_seperateA&Bweights.h5')\n",
    "modelN.save('fashion_minist_image_comparision_sameA&weights.h5')"
   ]
  }
 ],
 "metadata": {
  "kernelspec": {
   "display_name": "base",
   "language": "python",
   "name": "python3"
  },
  "language_info": {
   "codemirror_mode": {
    "name": "ipython",
    "version": 3
   },
   "file_extension": ".py",
   "mimetype": "text/x-python",
   "name": "python",
   "nbconvert_exporter": "python",
   "pygments_lexer": "ipython3",
   "version": "3.11.4"
  }
 },
 "nbformat": 4,
 "nbformat_minor": 5
}
